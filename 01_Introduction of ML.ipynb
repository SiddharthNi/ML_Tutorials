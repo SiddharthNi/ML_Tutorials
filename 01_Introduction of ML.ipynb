{
 "cells": [
  {
   "cell_type": "markdown",
   "id": "eea2dae5",
   "metadata": {},
   "source": [
    "# machine learning:\n",
    "machine learning is the branch of computer science that can studying about statstics and data. also machine learning is the direaction step of artificial intelligence.It can be analyze the data and predicts outcomes."
   ]
  },
  {
   "cell_type": "markdown",
   "id": "f68d7009",
   "metadata": {},
   "source": [
    "## data set\n",
    "data set is the collection of data. so dataset is have the different types data.\n",
    "### numerical data\n",
    "### categorical data\n",
    "### ordinal data"
   ]
  },
  {
   "cell_type": "markdown",
   "id": "d6372089",
   "metadata": {},
   "source": [
    "### numerical data:\n",
    "numerical data are in number form that are categories in\n",
    "#### discrete data:-\n",
    "that data counted Limited integer\n",
    "#### continous data\n",
    "measured data that can be any number"
   ]
  },
  {
   "cell_type": "markdown",
   "id": "948f8dc6",
   "metadata": {},
   "source": [
    "### Categorical data\n",
    "are values that cannot be measured up against each other. \n",
    "Example: a color value, or any yes/no values.\n",
    "\n",
    "### Ordinal data\n",
    "are like categorical data, but can be measured up against each other.\n",
    "Example: school grades where A is better than B and so on."
   ]
  },
  {
   "cell_type": "code",
   "execution_count": null,
   "id": "bd80f49f",
   "metadata": {},
   "outputs": [],
   "source": []
  }
 ],
 "metadata": {
  "kernelspec": {
   "display_name": "Python 3 (ipykernel)",
   "language": "python",
   "name": "python3"
  },
  "language_info": {
   "codemirror_mode": {
    "name": "ipython",
    "version": 3
   },
   "file_extension": ".py",
   "mimetype": "text/x-python",
   "name": "python",
   "nbconvert_exporter": "python",
   "pygments_lexer": "ipython3",
   "version": "3.11.3"
  }
 },
 "nbformat": 4,
 "nbformat_minor": 5
}
