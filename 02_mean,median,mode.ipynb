{
 "cells": [
  {
   "cell_type": "markdown",
   "id": "8ed76c62",
   "metadata": {},
   "source": [
    "In Machine Learning (and in mathematics) there are often three values that interests us:\n",
    "\n",
    "### Mean - The average value\n",
    "### Median - The mid point value\n",
    "### Mode - The most common value"
   ]
  },
  {
   "cell_type": "code",
   "execution_count": 1,
   "id": "21b884e7",
   "metadata": {},
   "outputs": [],
   "source": [
    "#Example: We have registered the speed of 13 cars:\n",
    "\n",
    "speed = [99,86,87,88,111,86,103,87,94,78,77,85,86]"
   ]
  },
  {
   "cell_type": "markdown",
   "id": "3561be0f",
   "metadata": {},
   "source": [
    "### Mean\n",
    "The mean value is the average value.\n",
    "\n",
    "To calculate the mean, find the sum of all values, and divide the sum by the number of values:\n",
    "\n",
    "(99+86+87+88+111+86+103+87+94+78+77+85+86) / 13 = 89.77"
   ]
  },
  {
   "cell_type": "code",
   "execution_count": 2,
   "id": "5c00a2d4",
   "metadata": {},
   "outputs": [
    {
     "name": "stdout",
     "output_type": "stream",
     "text": [
      "89.76923076923077\n"
     ]
    }
   ],
   "source": [
    "import numpy\n",
    "\n",
    "speed=[99,86,87,88,111,86,103,87,94,78,77,85,86]\n",
    "\n",
    "x=numpy.mean(speed)\n",
    "print(x)"
   ]
  },
  {
   "cell_type": "markdown",
   "id": "d0273945",
   "metadata": {},
   "source": [
    "### Median\n",
    "The median value is the value in the middle, after you have sorted all the values:\n",
    "\n",
    "77, 78, 85, 86, 86, 86, \"87\", 87, 88, 94, 99, 103, 111\n",
    "\n",
    "It is important that the numbers are sorted before you can find the median."
   ]
  },
  {
   "cell_type": "code",
   "execution_count": 3,
   "id": "a4a0b7e6",
   "metadata": {},
   "outputs": [
    {
     "name": "stdout",
     "output_type": "stream",
     "text": [
      "87.0\n"
     ]
    }
   ],
   "source": [
    "import numpy\n",
    "\n",
    "speed=[99,86,87,88,111,86,103,87,94,78,77,85,86]\n",
    "\n",
    "x=numpy.median(speed)\n",
    "print(x)"
   ]
  },
  {
   "cell_type": "markdown",
   "id": "c4aab22b",
   "metadata": {},
   "source": [
    "### Mode\n",
    "The Mode value is the value that appears the most number of times:\n",
    "\n",
    "99, 86, 87, 88, 111, 86, 103, 87, 94, 78, 77, 85, 86 = 86"
   ]
  },
  {
   "cell_type": "code",
   "execution_count": 4,
   "id": "2a9efdc0",
   "metadata": {},
   "outputs": [
    {
     "name": "stdout",
     "output_type": "stream",
     "text": [
      "ModeResult(mode=array([86]), count=array([3]))\n"
     ]
    },
    {
     "name": "stderr",
     "output_type": "stream",
     "text": [
      "C:\\Users\\ASUS\\AppData\\Local\\Temp\\ipykernel_17140\\3193049141.py:3: FutureWarning: Unlike other reduction functions (e.g. `skew`, `kurtosis`), the default behavior of `mode` typically preserves the axis it acts along. In SciPy 1.11.0, this behavior will change: the default value of `keepdims` will become False, the `axis` over which the statistic is taken will be eliminated, and the value None will no longer be accepted. Set `keepdims` to True or False to avoid this warning.\n",
      "  x=stats.mode(speed)\n"
     ]
    }
   ],
   "source": [
    "from scipy import stats\n",
    "speed=[99,86,87,88,111,86,103,87,94,78,77,85,86]\n",
    "x=stats.mode(speed)\n",
    "print(x)"
   ]
  },
  {
   "cell_type": "code",
   "execution_count": null,
   "id": "84d99e6c",
   "metadata": {},
   "outputs": [],
   "source": []
  }
 ],
 "metadata": {
  "kernelspec": {
   "display_name": "Python 3 (ipykernel)",
   "language": "python",
   "name": "python3"
  },
  "language_info": {
   "codemirror_mode": {
    "name": "ipython",
    "version": 3
   },
   "file_extension": ".py",
   "mimetype": "text/x-python",
   "name": "python",
   "nbconvert_exporter": "python",
   "pygments_lexer": "ipython3",
   "version": "3.11.3"
  }
 },
 "nbformat": 4,
 "nbformat_minor": 5
}
